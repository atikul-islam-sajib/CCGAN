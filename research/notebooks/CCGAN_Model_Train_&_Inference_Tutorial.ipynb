{
  "cells": [
    {
      "cell_type": "markdown",
      "metadata": {
        "id": "zgwye2qQ44Wq"
      },
      "source": [
        "## 1. Clone this repository to your local machine."
      ]
    },
    {
      "cell_type": "code",
      "execution_count": null,
      "metadata": {
        "id": "hatQH2fT445v"
      },
      "outputs": [],
      "source": [
        "!git clone https://github.com/atikul-islam-sajib/CCGAN.git"
      ]
    },
    {
      "cell_type": "markdown",
      "metadata": {
        "id": "7kr_XeSn5EEy"
      },
      "source": [
        "## 2. Navigate into the project directory."
      ]
    },
    {
      "cell_type": "code",
      "execution_count": null,
      "metadata": {
        "id": "qnNrGf3b5A1K"
      },
      "outputs": [],
      "source": [
        "%cd /content/CCGAN"
      ]
    },
    {
      "cell_type": "markdown",
      "metadata": {
        "id": "pdAz05S05K68"
      },
      "source": [
        "## 3. Install the required Python packages.  "
      ]
    },
    {
      "cell_type": "code",
      "execution_count": null,
      "metadata": {
        "id": "aRMnr7YT5HvY"
      },
      "outputs": [],
      "source": [
        "!pip install -r /content/CCGAN/requirements.txt"
      ]
    },
    {
      "cell_type": "markdown",
      "metadata": {
        "id": "1EDrc1536B4f"
      },
      "source": [
        "To customize the `config.yml` file for CCGAN based on your requirements and configuration, you need to modify the parameters accordingly. Here is a step-by-step guide:\n",
        "\n",
        "### 4. Updated `config.yml`\n",
        "\n",
        "```yaml\n",
        "path:\n",
        "    RAW_IMAGE_DATA_PATH: \"./data/raw/\"                        # Path to raw image data\n",
        "    PROCESSED_IMAGE_DATA_PATH: \"./data/processed/\"            # Path to processed image data\n",
        "    FILES_PATH: \"./artifacts/files/\"                          # Path to artifact files\n",
        "    TRAIN_MODELS: \"./artifacts/checkpoints/train_models/\"     # Path to saved training models\n",
        "    BEST_MODEL: \"./artifacts/checkpoints/best_model/\"         # Path to the best model checkpoint\n",
        "    METRICS_PATH: \"./artifacts/metrics/\"                      # Path to saved metrics\n",
        "    TRAIN_OUTPUT_IMAGES: \"./artifacts/outputs/train_images/\"  # Path to output images from training\n",
        "    TEST_OUTPUT_IMAGES: \"./artifacts/outputs/test_images/\"    # Path to output images from testing\n",
        "\n",
        "dataloader:\n",
        "    image_path: \"./data/raw/dataset.zip\"                      # Path to the dataset\n",
        "    channels: 3                                               # Number of image channels (e.g., RGB), it only works for RGB image\n",
        "    image_size: 256                                           # Adjusted image size to 256 (choose from 128, 256, 512)\n",
        "    batch_size: 32                                            # Adjusted batch size to 32\n",
        "    split_size: 0.20                                          # Proportion of the dataset to use for validation\n",
        "    mongoDB: False                                            # Use MongoDB for dataset storage\n",
        "\n",
        "database:\n",
        "    USERNAME: None                                            # Set Your USERNAME\n",
        "    PASSWORD: None                                            # Set Your PASSWORD\n",
        "    CLUSTER_URL: None                                         # Set Your Cluster e.g. \"cluster0.ym14neq.mongodb.net/?appName=Cluster0\"\n",
        "\n",
        "MLFlow:\n",
        "    MLFLOW_TRACKING_URL: \"https://dagshub.com/atikul-islam-sajib/CCGAN.mlflow\"  # Set your own MLFlow Tracking URL\n",
        "    MLFLOW_TRACKING_USERNAME: \"atikul-islam-sajib\"                              # Set your own MLFlow Tracking Username\n",
        "    MLFLOW_TRACKING_PASSWORD: \"*********\"                                       # Set your own MLFlow Tracking Password\n",
        "    REPO_NAME: \"CCGAN\"\n",
        "\n",
        "trainer:\n",
        "    epochs: 500                       # Adjusted number of training epochs to 500\n",
        "    lr: 0.0005                        # Adjusted learning rate to 0.0005\n",
        "    beta1: 0.5                        # Beta1 hyperparameter for Adam optimizer\n",
        "    beta2: 0.999                      # Beta2 hyperparameter for Adam optimizer\n",
        "    momentum: 0.90                    # Momentum for optimizers\n",
        "    weight_decay: 0.0001              # Adjusted weight decay for regularization to 0.0001\n",
        "    step_size: 50                     # Adjusted step size for learning rate scheduler to 50\n",
        "    gamma: 0.90                       # Adjusted multiplicative factor for learning rate decay to 0.90\n",
        "    threshold: 50                     # Adjusted threshold for model saving purposes to 50\n",
        "    device: \"gpu\"                     # Changed device to GPU for training\n",
        "    adam: True                        # Use Adam optimizer\n",
        "    SGD: False                        # Use SGD optimizer\n",
        "    pixelLoss: False                  # Use pixel-wise loss\n",
        "    l1_regularization: False          # Use L1 regularization\n",
        "    l2_regularization: False          # Use L2 regularization\n",
        "    elasticnet_regularization: False  # Use Elastic Net regularization\n",
        "    lr_scheduler: True                # Enable learning rate scheduler\n",
        "    verbose: True                     # Enable verbose logging\n",
        "    mlflow: True                      # Enable MLflow tracking\n",
        "```\n",
        "\n",
        "### Explanation of Changes in database:\n",
        "1. **MongoDB Atlas Configuration**: Updated the `database` section with placeholders for your MongoDB Atlas `USERNAME`, `PASSWORD`, and `CLUSTER_URL`.\n",
        "2. **Enable MongoDB**: Set `mongoDB` to `True` in the `dataloader` section to enable the use of MongoDB for dataset storage.\n",
        "\n",
        "### Important Note:\n",
        "- Replace `\"your_username\"`, `\"your_password\"`, and `\"cluster0.ym14neq.mongodb.net/?appName=Cluster0\"` with your actual MongoDB Atlas credentials and cluster URL.\n",
        "- Ensure your credentials and sensitive information are handled securely and are not exposed in version control or logs.\n",
        "\n",
        "### Explanation of Changes:\n",
        "1. **Image Size**: Changed `image_size` from 128 to 256 to work with higher resolution images.\n",
        "2. **Batch Size**: Increased `batch_size` from 1 to 32 for more efficient training.\n",
        "3. **Training Epochs**: Reduced `epochs` from 2000 to 500 for a shorter training duration.\n",
        "4. **Learning Rate**: Adjusted `lr` from 0.001 to 0.0005 for a more stable training process.\n",
        "5. **Weight Decay**: Changed `weight_decay` from 0.001 to 0.0001 to reduce regularization strength.\n",
        "6. **Step Size**: Reduced `step_size` from 100 to 50 for more frequent learning rate adjustments.\n",
        "7. **Gamma**: Adjusted `gamma` from 0.85 to 0.90 to modify the learning rate decay factor.\n",
        "8. **Threshold**: Lowered `threshold` from 100 to 50 to save models more frequently.\n",
        "9. **Device**: Changed `device` from \"cpu\" to \"gpu\" to utilize GPU for faster training.\n",
        "\n",
        "Adjust these parameters further based on specific project needs and available resources."
      ]
    },
    {
      "cell_type": "code",
      "execution_count": null,
      "metadata": {
        "id": "LCAN1hsG5O8g"
      },
      "outputs": [],
      "source": [
        "%cat /content/CCGAN/config.yml"
      ]
    },
    {
      "cell_type": "markdown",
      "metadata": {
        "id": "SCL2Y5v97PON"
      },
      "source": [
        "### 5. Command Line Interface (CLI) for CCGAN\n",
        "\n",
        "The CLI for CCGAN allows you to train and test the model using various configurable options. Below is a detailed explanation of each CLI option. These options are already mentioned and can be modified in the `config.yml` file.\n",
        "\n",
        "#### General Options\n",
        "- **`-h`, `--help`**: Show help message and exit.\n",
        "- **`--mode`**: Specify the mode to either train or test the model. Use `\"train\"` for training and `\"test\"` for testing.\n",
        "\n",
        "#### Data Loader Options\n",
        "- **`--image_path`**: Path to the dataset, configured as `image_path` in `config.yml`.\n",
        "- **`--channels`**: Number of image channels. For example, use 3 for RGB images, configured as `channels` in `config.yml`.\n",
        "- **`--image_size`**: Size to which images will be resized. Acceptable values are 128, 256, or 512, configured as `image_size` in `config.yml`.\n",
        "- **`--batch_size`**: Number of images per batch, configured as `batch_size` in `config.yml`.\n",
        "- **`--split_size`**: Proportion of the dataset to be used for validation, e.g., 0.20 for a 20% validation split, configured as `split_size` in `config.yml`.\n",
        "- **`--database`**: Specify the database configuration if using a database for dataset storage, details can be configured in the `database` section in `config.yml`.\n",
        "\n",
        "#### Training Options\n",
        "- **`--epochs`**: Number of epochs to train the model, configured as `epochs` in `config.yml`.\n",
        "- **`--lr`**: Learning rate for the model, configured as `lr` in `config.yml`.\n",
        "- **`--beta1`**: Beta1 hyperparameter for the Adam optimizer, configured as `beta1` in `config.yml`.\n",
        "- **`--beta2`**: Beta2 hyperparameter for the Adam optimizer, configured as `beta2` in `config.yml`.\n",
        "- **`--momentum`**: Momentum for the SGD optimizer, configured as `momentum` in `config.yml`.\n",
        "- **`--weight_decay`**: Weight decay for regularization, configured as `weight_decay` in `config.yml`.\n",
        "- **`--step_size`**: Step size for the learning rate scheduler, configured as `step_size` in `config.yml`.\n",
        "- **`--gamma`**: Multiplicative factor for learning rate decay, configured as `gamma` in `config.yml`.\n",
        "- **`--device`**: Device to use for training, e.g., `cpu`, `cuda`, configured as `device` in `config.yml`.\n",
        "- **`--adam`**: Use the Adam optimizer. Set to `True` to enable, configured as `adam` in `config.yml`.\n",
        "- **`--SGD`**: Use the SGD optimizer. Set to `True` to enable, configured as `SGD` in `config.yml`.\n",
        "- **`--pixelLoss`**: Use pixel-wise loss. Set to `True` to enable, configured as `pixelLoss` in `config.yml`.\n",
        "- **`--l1_regularization`**: Use L1 regularization. Set to `True` to enable, configured as `l1_regularization` in `config.yml`.\n",
        "- **`--l2_regularization`**: Use L2 regularization. Set to `True` to enable, configured as `l2_regularization` in `config.yml`.\n",
        "- **`--elasticnet_regularization`**: Use Elastic Net regularization. Set to `True` to enable, configured as `elasticnet_regularization` in `config.yml`.\n",
        "- **`--lr_scheduler`**: Enable learning rate scheduler. Set to `True` to enable, configured as `lr_scheduler` in `config.yml`.\n",
        "- **`--verbose`**: Enable verbose logging. Set to `True` to enable, configured as `verbose` in `config.yml`.\n",
        "- **`--mlflow`**: Enable MLflow tracking. Set to `True` to enable, configured as `mlflow` in `config.yml`.\n",
        "\n",
        "#### Testing Options\n",
        "- **`--model`**: Specify the model to be tested, e.g., `\"best\"` or a specific checkpoint path, configured as `model` in `config.yml`.\n",
        "- **`--dataloader`**: Specify the DataLoader to use for validation/testing, e.g., `\"train\"` or `\"valid\"`, configured as `dataloader` in `config.yml`.\n",
        "\n",
        "These options provide flexibility in configuring the training and testing processes of the CCGAN model, allowing you to fine-tune various parameters and settings to achieve optimal results."
      ]
    },
    {
      "cell_type": "code",
      "execution_count": null,
      "metadata": {
        "id": "gcbQYUGd6pn3"
      },
      "outputs": [],
      "source": [
        "!python /content/CCGAN/src/cli.py --help"
      ]
    },
    {
      "cell_type": "markdown",
      "metadata": {
        "id": "SHLSrtrL7TsX"
      },
      "source": [
        "### 6. Running CCGAN Training via CLI\n",
        "\n",
        "To train the CCGAN model, you can use the command line interface (CLI) with the `--mode` option set to `train`. This will initiate the training process according to the configurations specified in the `config.yml` file.\n",
        "\n",
        "#### 6.1 Command\n",
        "```bash\n",
        "!python /content/CCGAN/src/cli.py --mode train\n",
        "```\n",
        "\n",
        "#### 6.1.1 Explanation\n",
        "- **`--mode train`**: This option sets the mode to `train`, indicating that the model should be trained using the configurations provided."
      ]
    },
    {
      "cell_type": "code",
      "execution_count": null,
      "metadata": {
        "id": "wdTZaS1j6yuf"
      },
      "outputs": [],
      "source": [
        "!python /content/CCGAN/src/cli.py --mode train"
      ]
    },
    {
      "cell_type": "markdown",
      "metadata": {
        "id": "_MrFL13_-M_7"
      },
      "source": [
        "### 7. Model Training Loss Visualization\n",
        "\n",
        "The training process of the CCGAN model can be monitored using various metrics, including the training loss. Below is the visualization of the model loss over the training epochs.\n",
        "\n",
        "```python\n",
        "from IPython.display import Image\n",
        "\n",
        "Image(\"/content/CCGAN/artifacts/files/model_loss.png\")\n",
        "```"
      ]
    },
    {
      "cell_type": "code",
      "execution_count": null,
      "metadata": {
        "id": "yMqvOLOb7wKj"
      },
      "outputs": [],
      "source": [
        "from IPython.display import Image\n",
        "\n",
        "Image(\"/content/CCGAN/metrics/files/model_loss.png\")"
      ]
    },
    {
      "cell_type": "markdown",
      "metadata": {
        "id": "SPrj3dz9-Zng"
      },
      "source": [
        "### 8. Running CCGAN Training via CLI\n",
        "\n",
        "To train the CCGAN model, you can use the command line interface (CLI) with the `--mode` option set to `test`. This will initiate the testing process according to the configurations specified in the `config.yml` file.\n",
        "\n",
        "#### 8.1 Command\n",
        "```bash\n",
        "!python /content/CCGAN/src/cli.py --mode test\n",
        "```\n",
        "\n",
        "#### 8.1.1 Explanation\n",
        "- **`--mode test`**: This option sets the mode to `test`, indicating that the model should be testing using the configurations provided."
      ]
    },
    {
      "cell_type": "code",
      "execution_count": null,
      "metadata": {
        "id": "IjTUyTxe94UB"
      },
      "outputs": [],
      "source": [
        "!python /content/CCGAN/src/cli.py --mode test"
      ]
    }
  ],
  "metadata": {
    "accelerator": "GPU",
    "colab": {
      "gpuType": "T4",
      "provenance": []
    },
    "kernelspec": {
      "display_name": "Python 3",
      "name": "python3"
    },
    "language_info": {
      "codemirror_mode": {
        "name": "ipython",
        "version": 3
      },
      "file_extension": ".py",
      "mimetype": "text/x-python",
      "name": "python",
      "nbconvert_exporter": "python",
      "pygments_lexer": "ipython3",
      "version": "3.9.18"
    }
  },
  "nbformat": 4,
  "nbformat_minor": 0
}
